{
  "nbformat": 4,
  "nbformat_minor": 0,
  "metadata": {
    "colab": {
      "provenance": [],
      "gpuType": "T4",
      "authorship_tag": "ABX9TyPLRk7LhgbxXYTWuw+I0q1H",
      "include_colab_link": true
    },
    "kernelspec": {
      "name": "python3",
      "display_name": "Python 3"
    },
    "language_info": {
      "name": "python"
    },
    "accelerator": "GPU"
  },
  "cells": [
    {
      "cell_type": "markdown",
      "metadata": {
        "id": "view-in-github",
        "colab_type": "text"
      },
      "source": [
        "<a href=\"https://colab.research.google.com/github/manojg24/A-complete-optimizing-compiler/blob/main/GPU_Kernel_Optimizer.ipynb\" target=\"_parent\"><img src=\"https://colab.research.google.com/assets/colab-badge.svg\" alt=\"Open In Colab\"/></a>"
      ]
    },
    {
      "cell_type": "code",
      "execution_count": 1,
      "metadata": {
        "colab": {
          "base_uri": "https://localhost:8080/"
        },
        "id": "iaNNhwwCl2bV",
        "outputId": "5415ed5a-42bf-40ad-f8ad-082847e6bf8a"
      },
      "outputs": [
        {
          "output_type": "stream",
          "name": "stdout",
          "text": [
            "Sat Oct 11 14:09:57 2025       \n",
            "+-----------------------------------------------------------------------------------------+\n",
            "| NVIDIA-SMI 550.54.15              Driver Version: 550.54.15      CUDA Version: 12.4     |\n",
            "|-----------------------------------------+------------------------+----------------------+\n",
            "| GPU  Name                 Persistence-M | Bus-Id          Disp.A | Volatile Uncorr. ECC |\n",
            "| Fan  Temp   Perf          Pwr:Usage/Cap |           Memory-Usage | GPU-Util  Compute M. |\n",
            "|                                         |                        |               MIG M. |\n",
            "|=========================================+========================+======================|\n",
            "|   0  Tesla T4                       Off |   00000000:00:04.0 Off |                    0 |\n",
            "| N/A   53C    P8             10W /   70W |       0MiB /  15360MiB |      0%      Default |\n",
            "|                                         |                        |                  N/A |\n",
            "+-----------------------------------------+------------------------+----------------------+\n",
            "                                                                                         \n",
            "+-----------------------------------------------------------------------------------------+\n",
            "| Processes:                                                                              |\n",
            "|  GPU   GI   CI        PID   Type   Process name                              GPU Memory |\n",
            "|        ID   ID                                                               Usage      |\n",
            "|=========================================================================================|\n",
            "|  No running processes found                                                             |\n",
            "+-----------------------------------------------------------------------------------------+\n",
            "nvcc: NVIDIA (R) Cuda compiler driver\n",
            "Copyright (c) 2005-2024 NVIDIA Corporation\n",
            "Built on Thu_Jun__6_02:18:23_PDT_2024\n",
            "Cuda compilation tools, release 12.5, V12.5.82\n",
            "Build cuda_12.5.r12.5/compiler.34385749_0\n"
          ]
        }
      ],
      "source": [
        "!nvidia-smi\n",
        "!nvcc --version\n"
      ]
    },
    {
      "cell_type": "code",
      "source": [
        "%%writefile vector_add.cu\n",
        "#include <stdio.h>\n",
        "\n",
        "__global__ void vecAdd(float *A, float *B, float *C, int N) {\n",
        "    int i = blockIdx.x * blockDim.x + threadIdx.x;\n",
        "    if (i < N) C[i] = A[i] + B[i];\n",
        "}\n",
        "\n",
        "int main() {\n",
        "    int N = 1 << 20; //1 mil elements\n",
        "    size_t size = N * sizeof(float);\n",
        "\n",
        "    float *hA, *hB, *hC, *dA, *dB, *dC;\n",
        "    hA = (float*)malloc(size);\n",
        "    hB = (float*)malloc(size);\n",
        "    hC = (float*)malloc(size);\n",
        "\n",
        "    for (int i=0; i<N; i++) {\n",
        "      hA[i] = i;\n",
        "      hB[i] = i;\n",
        "    }\n",
        "\n",
        "    cudaMalloc(&dA, size); cudaMalloc(&dB, size); cudaMalloc(&dC, size);\n",
        "    cudaMemcpy(dA, hA, size, cudaMemcpyHostToDevice);\n",
        "    cudaMemcpy(dB, hB, size, cudaMemcpyHostToDevice);\n",
        "\n",
        "    int blockSize = 256;\n",
        "    int numBlocks = (N + blockSize - 1) / blockSize;\n",
        "\n",
        "    vecAdd<<<numBlocks, blockSize>>>(dA, dB, dC, N);\n",
        "\n",
        "    cudaMemcpy(hC, dC, size, cudaMemcpyDeviceToHost);\n",
        "\n",
        "    for (int i = 0; i < 5; i++)\n",
        "        std::cout << h_C[i] << \" \";\n",
        "    std::cout << \"...\" << std::endl;\n",
        "\n",
        "    cudaFree(dA);\n",
        "    cudaFree(dB);\n",
        "    cudaFree(dC);\n",
        "    free(hA);\n",
        "    free(hB);\n",
        "    free(hC);\n",
        "    printf(\"Done.\\\\n\");\n",
        "}\n"
      ],
      "metadata": {
        "colab": {
          "base_uri": "https://localhost:8080/"
        },
        "id": "NxUNzDQ0nrI5",
        "outputId": "cfd2fa52-5c6d-40e0-a8e3-192000fa5a52"
      },
      "execution_count": 4,
      "outputs": [
        {
          "output_type": "stream",
          "name": "stdout",
          "text": [
            "Writing vector_add.cu\n"
          ]
        }
      ]
    },
    {
      "cell_type": "code",
      "source": [
        "!nvcc vector_add.cu -o vector_add\n",
        "!./vector_add"
      ],
      "metadata": {
        "colab": {
          "base_uri": "https://localhost:8080/"
        },
        "id": "NXjzepO2ndMW",
        "outputId": "383fcafb-a6e3-46b5-a17e-d9c1505a6161"
      },
      "execution_count": 7,
      "outputs": [
        {
          "output_type": "stream",
          "name": "stdout",
          "text": [
            "Done.\\n"
          ]
        }
      ]
    },
    {
      "cell_type": "code",
      "source": [
        "!apt install -y nvidia-nsight-compute"
      ],
      "metadata": {
        "colab": {
          "base_uri": "https://localhost:8080/"
        },
        "id": "z_d7QLuPtFlB",
        "outputId": "f6bf216f-f2f0-4457-ec3a-9d4363d9a5b2"
      },
      "execution_count": 9,
      "outputs": [
        {
          "output_type": "stream",
          "name": "stdout",
          "text": [
            "Reading package lists... Done\n",
            "Building dependency tree... Done\n",
            "Reading state information... Done\n",
            "\u001b[1;31mE: \u001b[0mUnable to locate package nvidia-nsight-compute\u001b[0m\n"
          ]
        }
      ]
    },
    {
      "cell_type": "code",
      "source": [
        "!nvprof --version\n",
        "!nvprof ./vector_add"
      ],
      "metadata": {
        "colab": {
          "base_uri": "https://localhost:8080/"
        },
        "id": "txl4miXatdWK",
        "outputId": "cbabf791-aa37-4b5b-9bdc-54be6f6a1366"
      },
      "execution_count": 11,
      "outputs": [
        {
          "output_type": "stream",
          "name": "stdout",
          "text": [
            "nvprof: NVIDIA (R) Cuda command line profiler\n",
            "Copyright (c) 2012 - 2024 NVIDIA Corporation\n",
            "Release version 12.5.82 (21)\n",
            "==8072== NVPROF is profiling process 8072, command: ./vector_add\n",
            "Done.\\n==8072== Profiling application: ./vector_add\n",
            "==8072== Profiling result:\n",
            "            Type  Time(%)      Time     Calls       Avg       Min       Max  Name\n",
            " GPU activities:   50.84%  1.5683ms         2  784.17us  774.54us  793.81us  [CUDA memcpy HtoD]\n",
            "                   49.16%  1.5164ms         1  1.5164ms  1.5164ms  1.5164ms  [CUDA memcpy DtoH]\n",
            "      API calls:   87.38%  92.467ms         3  30.822ms  105.61us  92.125ms  cudaMalloc\n",
            "                    7.37%  7.7950ms         1  7.7950ms  7.7950ms  7.7950ms  cudaLaunchKernel\n",
            "                    4.55%  4.8149ms         3  1.6050ms  969.73us  2.8368ms  cudaMemcpy\n",
            "                    0.51%  536.77us         3  178.92us  135.28us  200.79us  cudaFree\n",
            "                    0.17%  176.44us       114  1.5470us     107ns  89.309us  cuDeviceGetAttribute\n",
            "                    0.01%  15.173us         1  15.173us  15.173us  15.173us  cuDeviceGetName\n",
            "                    0.01%  6.9280us         1  6.9280us  6.9280us  6.9280us  cuDeviceGetPCIBusId\n",
            "                    0.00%  1.7990us         3     599ns     204ns  1.2820us  cuDeviceGetCount\n",
            "                    0.00%     953ns         2     476ns     139ns     814ns  cuDeviceGet\n",
            "                    0.00%     601ns         1     601ns     601ns     601ns  cuDeviceTotalMem\n",
            "                    0.00%     444ns         1     444ns     444ns     444ns  cuModuleGetLoadingMode\n",
            "                    0.00%     316ns         1     316ns     316ns     316ns  cuDeviceGetUuid\n"
          ]
        }
      ]
    },
    {
      "cell_type": "code",
      "source": [
        "%%writefile vector_add.cu\n",
        "#include <stdio.h>\n",
        "\n",
        "__global__ void vectorAdd(float *A, float *B, float *C, int N) {\n",
        "    int i = blockIdx.x * blockDim.x + threadIdx.x;\n",
        "    if (i < N) C[i] = A[i] + B[i];\n",
        "}\n",
        "\n",
        "int main() {\n",
        "    int N = 1 << 20; // 1 million elements\n",
        "    int bytes_transferred = N * 4 *3;\n",
        "    size_t size = N * sizeof(float);\n",
        "\n",
        "    // Host allocation\n",
        "    float *hA = (float*)malloc(size);\n",
        "    float *hB = (float*)malloc(size);\n",
        "    float *hC = (float*)malloc(size);\n",
        "    for (int i = 0; i < N; i++) { hA[i] = 1.0f; hB[i] = 2.0f; }\n",
        "\n",
        "    // Device allocation\n",
        "    float *dA, *dB, *dC;\n",
        "    cudaMalloc(&dA, size); cudaMalloc(&dB, size); cudaMalloc(&dC, size);\n",
        "\n",
        "    // Copy host → device\n",
        "    cudaMemcpy(dA, hA, size, cudaMemcpyHostToDevice);\n",
        "    cudaMemcpy(dB, hB, size, cudaMemcpyHostToDevice);\n",
        "\n",
        "    // Launch kernel\n",
        "    int threads = 256;\n",
        "    int blocks = (N + threads - 1) / threads;\n",
        "\n",
        "    // Start timer\n",
        "    cudaEvent_t start, stop;\n",
        "    cudaEventCreate(&start);\n",
        "    cudaEventCreate(&stop);\n",
        "    cudaEventRecord(start);\n",
        "\n",
        "    vectorAdd<<<blocks, threads>>>(dA, dB, dC, N);\n",
        "    cudaDeviceSynchronize();\n",
        "\n",
        "    // Stop timer\n",
        "    cudaEventRecord(stop);\n",
        "    cudaEventSynchronize(stop);\n",
        "    float milliseconds = 0;\n",
        "    cudaEventElapsedTime(&milliseconds, start, stop);\n",
        "\n",
        "    printf(\"Kernel execution time: %.4f ms\\n\", milliseconds);\n",
        "\n",
        "    float throughput_GBps = (bytes_transferred / 1e9) / (milliseconds / 1e3);\n",
        "    printf(\"Approx. memory throughput: {throughput_GBps:.2f} GB/s\");\n",
        "\n",
        "    // Copy device → host\n",
        "    cudaMemcpy(hC, dC, size, cudaMemcpyDeviceToHost);\n",
        "\n",
        "    // Print first few results\n",
        "    for (int i = 0; i < 5; i++) printf(\"%.1f \", hC[i]);\n",
        "    printf(\"...\\n\");\n",
        "\n",
        "    // Cleanup\n",
        "    cudaFree(dA); cudaFree(dB); cudaFree(dC);\n",
        "    free(hA); free(hB); free(hC);\n",
        "    return 0;\n",
        "}\n"
      ],
      "metadata": {
        "colab": {
          "base_uri": "https://localhost:8080/"
        },
        "id": "LLbT-8lAvhGI",
        "outputId": "9a2f2256-88e1-4467-ba4b-f0e2aa70151b"
      },
      "execution_count": 24,
      "outputs": [
        {
          "output_type": "stream",
          "name": "stdout",
          "text": [
            "Overwriting vector_add.cu\n"
          ]
        }
      ]
    },
    {
      "cell_type": "code",
      "source": [
        "!nvcc vector_add.cu -o vector_add\n",
        "!./vector_add"
      ],
      "metadata": {
        "colab": {
          "base_uri": "https://localhost:8080/"
        },
        "id": "QEwrOGaXxrDi",
        "outputId": "41ff5c0f-df72-456c-c2bf-7895bb6021bf"
      },
      "execution_count": 25,
      "outputs": [
        {
          "output_type": "stream",
          "name": "stdout",
          "text": [
            "Kernel execution time: 8.3415 ms\n",
            "Approx. memory throughput: {throughput_GBps:.2f} GB/s0.0 0.0 0.0 0.0 0.0 ...\n"
          ]
        }
      ]
    }
  ]
}